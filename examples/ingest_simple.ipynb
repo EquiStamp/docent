{
 "cells": [
  {
   "cell_type": "markdown",
   "metadata": {},
   "source": [
    "See our docs for an explanation of what this code is doing!"
   ]
  },
  {
   "cell_type": "code",
   "execution_count": null,
   "metadata": {},
   "outputs": [],
   "source": [
    "import os\n",
    "from docent import Docent\n",
    "\n",
    "client = Docent(\n",
    "    api_key=os.getenv(\"DOCENT_API_KEY\"),  # is default and can be omitted\n",
    "\n",
    "    # Uncomment and adjust these if you're self-hosting\n",
    "    # server_url=\"http://localhost:8889\",\n",
    "    # web_url=\"http://localhost:3001\",\n",
    ")"
   ]
  },
  {
   "cell_type": "code",
   "execution_count": null,
   "metadata": {},
   "outputs": [],
   "source": [
    "collection_id = client.create_collection(name=\"simple example\", description=\"simple example that comes with the Docent repo\")"
   ]
  },
  {
   "cell_type": "code",
   "execution_count": null,
   "metadata": {},
   "outputs": [],
   "source": [
    "transcript_1 = [\n",
    "    {\n",
    "        \"role\": \"user\",\n",
    "        \"content\": \"What's the weather like in New York today?\"\n",
    "    },\n",
    "    {\n",
    "        \"role\": \"assistant\",\n",
    "        \"content\": \"The weather in New York today is mostly sunny with a high of 75°F (24°C).\"\n",
    "    }\n",
    "]\n",
    "metadata_1 = {\"model\": \"gpt-3.5-turbo\", \"agent_scaffold\": \"foo\", \"hallucinated\": True}\n",
    "transcript_2 = [\n",
    "    {\n",
    "        \"role\": \"user\",\n",
    "        \"content\": \"What's the weather like in San Francisco today?\"\n",
    "    },\n",
    "    {\n",
    "        \"role\": \"assistant\",\n",
    "        \"content\": \"The weather in San Francisco today is mostly cloudy with a high of 65°F (18°C).\"\n",
    "    }\n",
    "]\n",
    "metadata_2 = {\"model\": \"gpt-3.5-turbo\", \"agent_scaffold\": \"foo\", \"hallucinated\": True}\n",
    "transcript_3 = [\n",
    "    {\n",
    "        \"role\": \"user\",\n",
    "        \"content\": \"What's the weather like in Paris today?\"\n",
    "    },\n",
    "    {\n",
    "        \"role\": \"assistant\",\n",
    "        \"content\": \"I'm sorry, I don't know because I don't have access to weather tools.\"\n",
    "    }\n",
    "]\n",
    "metadata_3 = {\"model\": \"gpt-3.5-turbo\", \"agent_scaffold\": \"bar\", \"hallucinated\": False}\n",
    "\n",
    "transcripts = [transcript_1, transcript_2, transcript_3]\n",
    "metadata = [metadata_1, metadata_2, metadata_3]"
   ]
  },
  {
   "cell_type": "code",
   "execution_count": null,
   "metadata": {},
   "outputs": [],
   "source": [
    "from docent.data_models.chat import parse_chat_message\n",
    "from docent.data_models import Transcript\n",
    "\n",
    "parsed_transcripts = [\n",
    "    Transcript(messages=[parse_chat_message(msg) for msg in transcript])\n",
    "    for transcript in transcripts\n",
    "]"
   ]
  },
  {
   "cell_type": "code",
   "execution_count": null,
   "metadata": {},
   "outputs": [],
   "source": [
    "from docent.data_models import AgentRun\n",
    "\n",
    "agent_runs = [\n",
    "    AgentRun(\n",
    "        transcripts=[t],\n",
    "        metadata={\n",
    "            \"model\": m[\"model\"],\n",
    "            \"agent_scaffold\": m[\"agent_scaffold\"],\n",
    "            \"scores\": {\"hallucinated\": m[\"hallucinated\"]},\n",
    "        }\n",
    "    )\n",
    "    for t, m in zip(parsed_transcripts, metadata)\n",
    "]"
   ]
  },
  {
   "cell_type": "code",
   "execution_count": null,
   "metadata": {},
   "outputs": [],
   "source": [
    "client.add_agent_runs(collection_id, agent_runs)"
   ]
  },
  {
   "cell_type": "code",
   "execution_count": null,
   "metadata": {},
   "outputs": [],
   "source": []
  }
 ],
 "metadata": {
  "kernelspec": {
   "display_name": ".venv",
   "language": "python",
   "name": "python3"
  },
  "language_info": {
   "codemirror_mode": {
    "name": "ipython",
    "version": 3
   },
   "file_extension": ".py",
   "mimetype": "text/x-python",
   "name": "python",
   "nbconvert_exporter": "python",
   "pygments_lexer": "ipython3",
   "version": "3.12.9"
  }
 },
 "nbformat": 4,
 "nbformat_minor": 2
}
